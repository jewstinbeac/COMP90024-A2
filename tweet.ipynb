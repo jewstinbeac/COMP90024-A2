{
 "cells": [
  {
   "cell_type": "code",
   "execution_count": 1,
   "metadata": {},
   "outputs": [],
   "source": [
    "import tweepy\n",
    "import json\n",
    "CONSUMER_KEY = \"1GfvSU9F7G67R8QBlxFTMuzRJ\"\n",
    "CONSUMER_SECRET = \"sTZ1l7VFQlUVGflICtbelygGDZHJtfhsd2UlKUgFps0nfHjyFJ\"\n",
    "ACCESS_TOKEN_KEY = \"1154358377910296579-OXsbFfaEW4ONjMAi7bLEUNoWeqTdKH\"\n",
    "ACCESS_TOKEN_SECRET = \"YXfSvULgEjIaM7KaE6JXctPSg8QLp7Jd32g8HDFUpqQi0\"\n",
    "auth = tweepy.OAuthHandler(CONSUMER_KEY, CONSUMER_SECRET)\n",
    "auth.set_access_token(ACCESS_TOKEN_KEY, ACCESS_TOKEN_SECRET)\n",
    "api = tweepy.API(auth)"
   ]
  }
 ],
 "metadata": {
  "interpreter": {
   "hash": "0f30f52230e98a66701697f317046da00ce2cde01feb9a5533ae28cf5631ecd9"
  },
  "kernelspec": {
   "display_name": "Python 3.9.7 ('base')",
   "language": "python",
   "name": "python3"
  },
  "language_info": {
   "codemirror_mode": {
    "name": "ipython",
    "version": 3
   },
   "file_extension": ".py",
   "mimetype": "text/x-python",
   "name": "python",
   "nbconvert_exporter": "python",
   "pygments_lexer": "ipython3",
   "version": "3.9.7"
  },
  "orig_nbformat": 4
 },
 "nbformat": 4,
 "nbformat_minor": 2
}
